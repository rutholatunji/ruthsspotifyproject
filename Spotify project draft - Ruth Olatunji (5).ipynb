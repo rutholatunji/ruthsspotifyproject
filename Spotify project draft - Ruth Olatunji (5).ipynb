{
 "cells": [
  {
   "cell_type": "markdown",
   "metadata": {},
   "source": [
    "# Using Spotify's audio analysis to find the starting point of Nicki Minaj's verse in Side to Side by Ariana Grande"
   ]
  },
  {
   "cell_type": "markdown",
   "metadata": {},
   "source": [
    "### Step 1: To begin I used pip to install spotipy"
   ]
  },
  {
   "cell_type": "code",
   "execution_count": 1,
   "metadata": {
    "scrolled": false
   },
   "outputs": [
    {
     "name": "stdout",
     "output_type": "stream",
     "text": [
      "Note: you may need to restart the kernel to use updated packages.\n"
     ]
    },
    {
     "name": "stderr",
     "output_type": "stream",
     "text": [
      "'c:\\users\\rutho\\pycharmprojects\\cfg-python\\cfg' is not recognized as an internal or external command,\n",
      "operable program or batch file.\n"
     ]
    }
   ],
   "source": [
    "pip install spotipy"
   ]
  },
  {
   "cell_type": "markdown",
   "metadata": {},
   "source": [
    "### Step 2: Then I imported spotipy, and authorised it using my client creditionals."
   ]
  },
  {
   "cell_type": "markdown",
   "metadata": {},
   "source": [
    "#### I imported pandas to make a dataframe to make the data more manageable"
   ]
  },
  {
   "cell_type": "code",
   "execution_count": 2,
   "metadata": {
    "scrolled": true
   },
   "outputs": [
    {
     "data": {
      "text/html": [
       "<div>\n",
       "<style scoped>\n",
       "    .dataframe tbody tr th:only-of-type {\n",
       "        vertical-align: middle;\n",
       "    }\n",
       "\n",
       "    .dataframe tbody tr th {\n",
       "        vertical-align: top;\n",
       "    }\n",
       "\n",
       "    .dataframe thead th {\n",
       "        text-align: right;\n",
       "    }\n",
       "</style>\n",
       "<table border=\"1\" class=\"dataframe\">\n",
       "  <thead>\n",
       "    <tr style=\"text-align: right;\">\n",
       "      <th></th>\n",
       "      <th>start</th>\n",
       "      <th>duration</th>\n",
       "      <th>confidence</th>\n",
       "      <th>loudness_start</th>\n",
       "      <th>loudness_max_time</th>\n",
       "      <th>loudness_max</th>\n",
       "      <th>loudness_end</th>\n",
       "      <th>pitches</th>\n",
       "      <th>timbre</th>\n",
       "    </tr>\n",
       "  </thead>\n",
       "  <tbody>\n",
       "    <tr>\n",
       "      <th>0</th>\n",
       "      <td>0.00000</td>\n",
       "      <td>0.18567</td>\n",
       "      <td>0.000</td>\n",
       "      <td>-60.000</td>\n",
       "      <td>0.00000</td>\n",
       "      <td>-60.000</td>\n",
       "      <td>0.0</td>\n",
       "      <td>[1.0, 0.996, 0.637, 0.61, 0.59, 0.59, 0.58, 0....</td>\n",
       "      <td>[0.0, 171.13, 9.469, -28.48, 57.491, -50.067, ...</td>\n",
       "    </tr>\n",
       "    <tr>\n",
       "      <th>1</th>\n",
       "      <td>0.18567</td>\n",
       "      <td>0.18594</td>\n",
       "      <td>1.000</td>\n",
       "      <td>-60.000</td>\n",
       "      <td>0.11628</td>\n",
       "      <td>-31.955</td>\n",
       "      <td>0.0</td>\n",
       "      <td>[1.0, 0.06, 0.035, 0.055, 0.428, 0.047, 0.081,...</td>\n",
       "      <td>[24.24, 2.363, 73.003, -54.269, 47.801, 7.108,...</td>\n",
       "    </tr>\n",
       "    <tr>\n",
       "      <th>2</th>\n",
       "      <td>0.37161</td>\n",
       "      <td>0.13778</td>\n",
       "      <td>0.607</td>\n",
       "      <td>-31.267</td>\n",
       "      <td>0.11020</td>\n",
       "      <td>-25.128</td>\n",
       "      <td>0.0</td>\n",
       "      <td>[0.711, 0.09, 0.025, 0.086, 1.0, 0.052, 0.034,...</td>\n",
       "      <td>[31.592, -12.09, 81.929, -51.673, 35.334, -24....</td>\n",
       "    </tr>\n",
       "    <tr>\n",
       "      <th>3</th>\n",
       "      <td>0.50939</td>\n",
       "      <td>0.33737</td>\n",
       "      <td>0.398</td>\n",
       "      <td>-25.026</td>\n",
       "      <td>0.11847</td>\n",
       "      <td>-19.309</td>\n",
       "      <td>0.0</td>\n",
       "      <td>[1.0, 0.074, 0.031, 0.034, 0.465, 0.24, 0.072,...</td>\n",
       "      <td>[37.29, -19.682, 48.519, -25.153, 19.304, -20....</td>\n",
       "    </tr>\n",
       "    <tr>\n",
       "      <th>4</th>\n",
       "      <td>0.84676</td>\n",
       "      <td>0.07583</td>\n",
       "      <td>0.410</td>\n",
       "      <td>-25.031</td>\n",
       "      <td>0.03583</td>\n",
       "      <td>-21.423</td>\n",
       "      <td>0.0</td>\n",
       "      <td>[0.831, 0.274, 0.033, 0.088, 0.411, 0.088, 0.0...</td>\n",
       "      <td>[38.278, 4.486, 74.627, -11.983, 15.321, -33.6...</td>\n",
       "    </tr>\n",
       "    <tr>\n",
       "      <th>...</th>\n",
       "      <td>...</td>\n",
       "      <td>...</td>\n",
       "      <td>...</td>\n",
       "      <td>...</td>\n",
       "      <td>...</td>\n",
       "      <td>...</td>\n",
       "      <td>...</td>\n",
       "      <td>...</td>\n",
       "      <td>...</td>\n",
       "    </tr>\n",
       "    <tr>\n",
       "      <th>571</th>\n",
       "      <td>173.97420</td>\n",
       "      <td>0.16961</td>\n",
       "      <td>0.590</td>\n",
       "      <td>-35.042</td>\n",
       "      <td>0.04772</td>\n",
       "      <td>-29.462</td>\n",
       "      <td>0.0</td>\n",
       "      <td>[0.292, 0.165, 0.255, 0.184, 1.0, 0.54, 0.191,...</td>\n",
       "      <td>[27.589, -169.393, 22.967, -2.968, 56.486, -18...</td>\n",
       "    </tr>\n",
       "    <tr>\n",
       "      <th>572</th>\n",
       "      <td>174.14381</td>\n",
       "      <td>0.09315</td>\n",
       "      <td>0.352</td>\n",
       "      <td>-35.980</td>\n",
       "      <td>0.01355</td>\n",
       "      <td>-30.837</td>\n",
       "      <td>0.0</td>\n",
       "      <td>[0.202, 0.196, 0.294, 1.0, 0.731, 0.308, 0.11,...</td>\n",
       "      <td>[25.762, -52.051, 36.086, 30.575, 24.852, -42....</td>\n",
       "    </tr>\n",
       "    <tr>\n",
       "      <th>573</th>\n",
       "      <td>174.23695</td>\n",
       "      <td>0.35991</td>\n",
       "      <td>0.180</td>\n",
       "      <td>-36.758</td>\n",
       "      <td>0.03734</td>\n",
       "      <td>-32.605</td>\n",
       "      <td>0.0</td>\n",
       "      <td>[0.181, 0.197, 0.092, 0.05, 1.0, 0.118, 0.074,...</td>\n",
       "      <td>[23.614, -125.516, 24.399, 42.905, 58.133, -24...</td>\n",
       "    </tr>\n",
       "    <tr>\n",
       "      <th>574</th>\n",
       "      <td>174.59686</td>\n",
       "      <td>0.50975</td>\n",
       "      <td>0.312</td>\n",
       "      <td>-42.060</td>\n",
       "      <td>0.05910</td>\n",
       "      <td>-38.306</td>\n",
       "      <td>0.0</td>\n",
       "      <td>[0.556, 0.64, 0.59, 0.589, 1.0, 0.922, 0.498, ...</td>\n",
       "      <td>[16.842, -97.04, 0.66, 40.877, 110.147, -45.83...</td>\n",
       "    </tr>\n",
       "    <tr>\n",
       "      <th>575</th>\n",
       "      <td>175.10661</td>\n",
       "      <td>2.92005</td>\n",
       "      <td>0.077</td>\n",
       "      <td>-50.044</td>\n",
       "      <td>0.00910</td>\n",
       "      <td>-48.798</td>\n",
       "      <td>-60.0</td>\n",
       "      <td>[0.108, 0.107, 0.125, 0.166, 0.497, 0.289, 0.1...</td>\n",
       "      <td>[6.039, 54.754, -18.672, 47.654, 104.474, -89....</td>\n",
       "    </tr>\n",
       "  </tbody>\n",
       "</table>\n",
       "<p>576 rows × 9 columns</p>\n",
       "</div>"
      ],
      "text/plain": [
       "         start  duration  confidence  loudness_start  loudness_max_time  \\\n",
       "0      0.00000   0.18567       0.000         -60.000            0.00000   \n",
       "1      0.18567   0.18594       1.000         -60.000            0.11628   \n",
       "2      0.37161   0.13778       0.607         -31.267            0.11020   \n",
       "3      0.50939   0.33737       0.398         -25.026            0.11847   \n",
       "4      0.84676   0.07583       0.410         -25.031            0.03583   \n",
       "..         ...       ...         ...             ...                ...   \n",
       "571  173.97420   0.16961       0.590         -35.042            0.04772   \n",
       "572  174.14381   0.09315       0.352         -35.980            0.01355   \n",
       "573  174.23695   0.35991       0.180         -36.758            0.03734   \n",
       "574  174.59686   0.50975       0.312         -42.060            0.05910   \n",
       "575  175.10661   2.92005       0.077         -50.044            0.00910   \n",
       "\n",
       "     loudness_max  loudness_end  \\\n",
       "0         -60.000           0.0   \n",
       "1         -31.955           0.0   \n",
       "2         -25.128           0.0   \n",
       "3         -19.309           0.0   \n",
       "4         -21.423           0.0   \n",
       "..            ...           ...   \n",
       "571       -29.462           0.0   \n",
       "572       -30.837           0.0   \n",
       "573       -32.605           0.0   \n",
       "574       -38.306           0.0   \n",
       "575       -48.798         -60.0   \n",
       "\n",
       "                                               pitches  \\\n",
       "0    [1.0, 0.996, 0.637, 0.61, 0.59, 0.59, 0.58, 0....   \n",
       "1    [1.0, 0.06, 0.035, 0.055, 0.428, 0.047, 0.081,...   \n",
       "2    [0.711, 0.09, 0.025, 0.086, 1.0, 0.052, 0.034,...   \n",
       "3    [1.0, 0.074, 0.031, 0.034, 0.465, 0.24, 0.072,...   \n",
       "4    [0.831, 0.274, 0.033, 0.088, 0.411, 0.088, 0.0...   \n",
       "..                                                 ...   \n",
       "571  [0.292, 0.165, 0.255, 0.184, 1.0, 0.54, 0.191,...   \n",
       "572  [0.202, 0.196, 0.294, 1.0, 0.731, 0.308, 0.11,...   \n",
       "573  [0.181, 0.197, 0.092, 0.05, 1.0, 0.118, 0.074,...   \n",
       "574  [0.556, 0.64, 0.59, 0.589, 1.0, 0.922, 0.498, ...   \n",
       "575  [0.108, 0.107, 0.125, 0.166, 0.497, 0.289, 0.1...   \n",
       "\n",
       "                                                timbre  \n",
       "0    [0.0, 171.13, 9.469, -28.48, 57.491, -50.067, ...  \n",
       "1    [24.24, 2.363, 73.003, -54.269, 47.801, 7.108,...  \n",
       "2    [31.592, -12.09, 81.929, -51.673, 35.334, -24....  \n",
       "3    [37.29, -19.682, 48.519, -25.153, 19.304, -20....  \n",
       "4    [38.278, 4.486, 74.627, -11.983, 15.321, -33.6...  \n",
       "..                                                 ...  \n",
       "571  [27.589, -169.393, 22.967, -2.968, 56.486, -18...  \n",
       "572  [25.762, -52.051, 36.086, 30.575, 24.852, -42....  \n",
       "573  [23.614, -125.516, 24.399, 42.905, 58.133, -24...  \n",
       "574  [16.842, -97.04, 0.66, 40.877, 110.147, -45.83...  \n",
       "575  [6.039, 54.754, -18.672, 47.654, 104.474, -89....  \n",
       "\n",
       "[576 rows x 9 columns]"
      ]
     },
     "execution_count": 2,
     "metadata": {},
     "output_type": "execute_result"
    }
   ],
   "source": [
    "import spotipy\n",
    "from spotipy.oauth2 import SpotifyClientCredentials\n",
    "\n",
    "sp = spotipy.Spotify(auth_manager=SpotifyClientCredentials(client_id=\"56ab3cc7108646a98b183042b661114b\",\n",
    "                                                           client_secret=\"17fda25e18164fbcb133a6621e453242\"))\n",
    "\n",
    "track_id = '6j4w8O8gEseBUZTOo8vYMK'\n",
    "feat_results = sp.audio_analysis(track_id)\n",
    "\n",
    "import pandas as pd\n",
    "\n",
    "\n",
    "df = pd.DataFrame(feat_results[\"segments\"])\n",
    "df"
   ]
  },
  {
   "cell_type": "markdown",
   "metadata": {},
   "source": [
    "### Step 3: I wanted to access the timbre of the audio since that is unique to everyone regardless of the backing track/beat/instrumental\n",
    "\n",
    "#### \"Vocal Timbre, or as it is described as the quality of that tone utilizing complex overtones, or sound waves, is that unique “something” that gives color and personality to your voice, and how it is recognized.\"\n",
    "\n",
    "#### Every voice has its own distinguished timbre"
   ]
  },
  {
   "cell_type": "code",
   "execution_count": 3,
   "metadata": {},
   "outputs": [
    {
     "data": {
      "text/html": [
       "<div>\n",
       "<style scoped>\n",
       "    .dataframe tbody tr th:only-of-type {\n",
       "        vertical-align: middle;\n",
       "    }\n",
       "\n",
       "    .dataframe tbody tr th {\n",
       "        vertical-align: top;\n",
       "    }\n",
       "\n",
       "    .dataframe thead th {\n",
       "        text-align: right;\n",
       "    }\n",
       "</style>\n",
       "<table border=\"1\" class=\"dataframe\">\n",
       "  <thead>\n",
       "    <tr style=\"text-align: right;\">\n",
       "      <th></th>\n",
       "      <th>start</th>\n",
       "      <th>timbre</th>\n",
       "    </tr>\n",
       "  </thead>\n",
       "  <tbody>\n",
       "    <tr>\n",
       "      <th>0</th>\n",
       "      <td>0.00000</td>\n",
       "      <td>[0.0, 171.13, 9.469, -28.48, 57.491, -50.067, ...</td>\n",
       "    </tr>\n",
       "    <tr>\n",
       "      <th>1</th>\n",
       "      <td>0.18567</td>\n",
       "      <td>[24.24, 2.363, 73.003, -54.269, 47.801, 7.108,...</td>\n",
       "    </tr>\n",
       "    <tr>\n",
       "      <th>2</th>\n",
       "      <td>0.37161</td>\n",
       "      <td>[31.592, -12.09, 81.929, -51.673, 35.334, -24....</td>\n",
       "    </tr>\n",
       "    <tr>\n",
       "      <th>3</th>\n",
       "      <td>0.50939</td>\n",
       "      <td>[37.29, -19.682, 48.519, -25.153, 19.304, -20....</td>\n",
       "    </tr>\n",
       "    <tr>\n",
       "      <th>4</th>\n",
       "      <td>0.84676</td>\n",
       "      <td>[38.278, 4.486, 74.627, -11.983, 15.321, -33.6...</td>\n",
       "    </tr>\n",
       "    <tr>\n",
       "      <th>...</th>\n",
       "      <td>...</td>\n",
       "      <td>...</td>\n",
       "    </tr>\n",
       "    <tr>\n",
       "      <th>571</th>\n",
       "      <td>173.97420</td>\n",
       "      <td>[27.589, -169.393, 22.967, -2.968, 56.486, -18...</td>\n",
       "    </tr>\n",
       "    <tr>\n",
       "      <th>572</th>\n",
       "      <td>174.14381</td>\n",
       "      <td>[25.762, -52.051, 36.086, 30.575, 24.852, -42....</td>\n",
       "    </tr>\n",
       "    <tr>\n",
       "      <th>573</th>\n",
       "      <td>174.23695</td>\n",
       "      <td>[23.614, -125.516, 24.399, 42.905, 58.133, -24...</td>\n",
       "    </tr>\n",
       "    <tr>\n",
       "      <th>574</th>\n",
       "      <td>174.59686</td>\n",
       "      <td>[16.842, -97.04, 0.66, 40.877, 110.147, -45.83...</td>\n",
       "    </tr>\n",
       "    <tr>\n",
       "      <th>575</th>\n",
       "      <td>175.10661</td>\n",
       "      <td>[6.039, 54.754, -18.672, 47.654, 104.474, -89....</td>\n",
       "    </tr>\n",
       "  </tbody>\n",
       "</table>\n",
       "<p>576 rows × 2 columns</p>\n",
       "</div>"
      ],
      "text/plain": [
       "         start                                             timbre\n",
       "0      0.00000  [0.0, 171.13, 9.469, -28.48, 57.491, -50.067, ...\n",
       "1      0.18567  [24.24, 2.363, 73.003, -54.269, 47.801, 7.108,...\n",
       "2      0.37161  [31.592, -12.09, 81.929, -51.673, 35.334, -24....\n",
       "3      0.50939  [37.29, -19.682, 48.519, -25.153, 19.304, -20....\n",
       "4      0.84676  [38.278, 4.486, 74.627, -11.983, 15.321, -33.6...\n",
       "..         ...                                                ...\n",
       "571  173.97420  [27.589, -169.393, 22.967, -2.968, 56.486, -18...\n",
       "572  174.14381  [25.762, -52.051, 36.086, 30.575, 24.852, -42....\n",
       "573  174.23695  [23.614, -125.516, 24.399, 42.905, 58.133, -24...\n",
       "574  174.59686  [16.842, -97.04, 0.66, 40.877, 110.147, -45.83...\n",
       "575  175.10661  [6.039, 54.754, -18.672, 47.654, 104.474, -89....\n",
       "\n",
       "[576 rows x 2 columns]"
      ]
     },
     "execution_count": 3,
     "metadata": {},
     "output_type": "execute_result"
    }
   ],
   "source": [
    "df.drop(columns=['confidence', 'pitches', 'loudness_start', 'loudness_end', 'loudness_max','loudness_max_time','duration',])"
   ]
  },
  {
   "cell_type": "markdown",
   "metadata": {},
   "source": [
    "### Step 4: The results returned the timbre in the form of a list so I calculated the average using a for loop"
   ]
  },
  {
   "cell_type": "code",
   "execution_count": 21,
   "metadata": {},
   "outputs": [],
   "source": [
    "#for feat_results in feat_results[\"segments\"]:\n",
    "    \n",
    "    #print(sum(feat_results[\"timbre\"]))\n"
   ]
  },
  {
   "cell_type": "markdown",
   "metadata": {},
   "source": [
    "### Step 5:  I calculated the start of Nicki's verse manually by listening and using some calculations "
   ]
  },
  {
   "cell_type": "code",
   "execution_count": 9,
   "metadata": {},
   "outputs": [
    {
     "name": "stdout",
     "output_type": "stream",
     "text": [
      "Nicki Minajs verse ends at 128.4 seconds\n",
      "Nicki Minajs verse ends at 150.6 seconds\n"
     ]
    }
   ],
   "source": [
    "start_time = 2.14*60\n",
    "print('Nicki Minajs verse ends at {} seconds'.format(start_time))\n",
    "\n",
    "end_time = 2.51*60\n",
    "print('Nicki Minajs verse ends at {} seconds'.format(end_time))\n"
   ]
  },
  {
   "cell_type": "markdown",
   "metadata": {},
   "source": [
    "### Step 6: I extracted the data I needed manually then exported it to csv"
   ]
  },
  {
   "cell_type": "code",
   "execution_count": 7,
   "metadata": {},
   "outputs": [
    {
     "data": {
      "text/html": [
       "<div>\n",
       "<style scoped>\n",
       "    .dataframe tbody tr th:only-of-type {\n",
       "        vertical-align: middle;\n",
       "    }\n",
       "\n",
       "    .dataframe tbody tr th {\n",
       "        vertical-align: top;\n",
       "    }\n",
       "\n",
       "    .dataframe thead th {\n",
       "        text-align: right;\n",
       "    }\n",
       "</style>\n",
       "<table border=\"1\" class=\"dataframe\">\n",
       "  <thead>\n",
       "    <tr style=\"text-align: right;\">\n",
       "      <th></th>\n",
       "      <th>Time_s</th>\n",
       "      <th>full_timbre_Hz</th>\n",
       "      <th>nicki_timbre_Hz</th>\n",
       "      <th>ariana_timbre_Hz</th>\n",
       "    </tr>\n",
       "  </thead>\n",
       "  <tbody>\n",
       "    <tr>\n",
       "      <th>0</th>\n",
       "      <td>0.00000</td>\n",
       "      <td>135.612</td>\n",
       "      <td>0.0</td>\n",
       "      <td>0.000</td>\n",
       "    </tr>\n",
       "    <tr>\n",
       "      <th>1</th>\n",
       "      <td>0.18567</td>\n",
       "      <td>97.232</td>\n",
       "      <td>0.0</td>\n",
       "      <td>0.000</td>\n",
       "    </tr>\n",
       "    <tr>\n",
       "      <th>2</th>\n",
       "      <td>0.37161</td>\n",
       "      <td>21.256</td>\n",
       "      <td>0.0</td>\n",
       "      <td>0.000</td>\n",
       "    </tr>\n",
       "    <tr>\n",
       "      <th>3</th>\n",
       "      <td>0.50939</td>\n",
       "      <td>-5.064</td>\n",
       "      <td>0.0</td>\n",
       "      <td>0.000</td>\n",
       "    </tr>\n",
       "    <tr>\n",
       "      <th>4</th>\n",
       "      <td>0.84676</td>\n",
       "      <td>92.591</td>\n",
       "      <td>0.0</td>\n",
       "      <td>0.000</td>\n",
       "    </tr>\n",
       "    <tr>\n",
       "      <th>...</th>\n",
       "      <td>...</td>\n",
       "      <td>...</td>\n",
       "      <td>...</td>\n",
       "      <td>...</td>\n",
       "    </tr>\n",
       "    <tr>\n",
       "      <th>571</th>\n",
       "      <td>173.97420</td>\n",
       "      <td>-72.057</td>\n",
       "      <td>0.0</td>\n",
       "      <td>-72.057</td>\n",
       "    </tr>\n",
       "    <tr>\n",
       "      <th>572</th>\n",
       "      <td>174.14381</td>\n",
       "      <td>-51.504</td>\n",
       "      <td>0.0</td>\n",
       "      <td>-51.504</td>\n",
       "    </tr>\n",
       "    <tr>\n",
       "      <th>573</th>\n",
       "      <td>174.23695</td>\n",
       "      <td>-97.407</td>\n",
       "      <td>0.0</td>\n",
       "      <td>-97.407</td>\n",
       "    </tr>\n",
       "    <tr>\n",
       "      <th>574</th>\n",
       "      <td>174.59686</td>\n",
       "      <td>-6.128</td>\n",
       "      <td>0.0</td>\n",
       "      <td>-6.128</td>\n",
       "    </tr>\n",
       "    <tr>\n",
       "      <th>575</th>\n",
       "      <td>175.10661</td>\n",
       "      <td>131.474</td>\n",
       "      <td>0.0</td>\n",
       "      <td>131.474</td>\n",
       "    </tr>\n",
       "  </tbody>\n",
       "</table>\n",
       "<p>576 rows × 4 columns</p>\n",
       "</div>"
      ],
      "text/plain": [
       "        Time_s  full_timbre_Hz  nicki_timbre_Hz  ariana_timbre_Hz\n",
       "0      0.00000         135.612              0.0             0.000\n",
       "1      0.18567          97.232              0.0             0.000\n",
       "2      0.37161          21.256              0.0             0.000\n",
       "3      0.50939          -5.064              0.0             0.000\n",
       "4      0.84676          92.591              0.0             0.000\n",
       "..         ...             ...              ...               ...\n",
       "571  173.97420         -72.057              0.0           -72.057\n",
       "572  174.14381         -51.504              0.0           -51.504\n",
       "573  174.23695         -97.407              0.0           -97.407\n",
       "574  174.59686          -6.128              0.0            -6.128\n",
       "575  175.10661         131.474              0.0           131.474\n",
       "\n",
       "[576 rows x 4 columns]"
      ]
     },
     "execution_count": 7,
     "metadata": {},
     "output_type": "execute_result"
    }
   ],
   "source": [
    "compare_timbre = pd.read_csv(\"audio_analysis.csv\")\n",
    "compare_timbre"
   ]
  },
  {
   "cell_type": "markdown",
   "metadata": {},
   "source": [
    "### Step 7: Then I did some data analysis to find a trend"
   ]
  },
  {
   "cell_type": "code",
   "execution_count": 8,
   "metadata": {
    "scrolled": true
   },
   "outputs": [
    {
     "data": {
      "text/html": [
       "<div>\n",
       "<style scoped>\n",
       "    .dataframe tbody tr th:only-of-type {\n",
       "        vertical-align: middle;\n",
       "    }\n",
       "\n",
       "    .dataframe tbody tr th {\n",
       "        vertical-align: top;\n",
       "    }\n",
       "\n",
       "    .dataframe thead th {\n",
       "        text-align: right;\n",
       "    }\n",
       "</style>\n",
       "<table border=\"1\" class=\"dataframe\">\n",
       "  <thead>\n",
       "    <tr style=\"text-align: right;\">\n",
       "      <th></th>\n",
       "      <th>Time_s</th>\n",
       "      <th>full_timbre_Hz</th>\n",
       "      <th>nicki_timbre_Hz</th>\n",
       "      <th>ariana_timbre_Hz</th>\n",
       "    </tr>\n",
       "  </thead>\n",
       "  <tbody>\n",
       "    <tr>\n",
       "      <th>count</th>\n",
       "      <td>576.000000</td>\n",
       "      <td>576.000000</td>\n",
       "      <td>576.000000</td>\n",
       "      <td>576.000000</td>\n",
       "    </tr>\n",
       "    <tr>\n",
       "      <th>mean</th>\n",
       "      <td>86.924811</td>\n",
       "      <td>26.518354</td>\n",
       "      <td>-4.564705</td>\n",
       "      <td>29.963021</td>\n",
       "    </tr>\n",
       "    <tr>\n",
       "      <th>std</th>\n",
       "      <td>50.930510</td>\n",
       "      <td>127.575400</td>\n",
       "      <td>60.456598</td>\n",
       "      <td>108.672746</td>\n",
       "    </tr>\n",
       "    <tr>\n",
       "      <th>min</th>\n",
       "      <td>0.000000</td>\n",
       "      <td>-419.985000</td>\n",
       "      <td>-419.985000</td>\n",
       "      <td>-298.485000</td>\n",
       "    </tr>\n",
       "    <tr>\n",
       "      <th>25%</th>\n",
       "      <td>42.099537</td>\n",
       "      <td>-56.293750</td>\n",
       "      <td>0.000000</td>\n",
       "      <td>-6.193750</td>\n",
       "    </tr>\n",
       "    <tr>\n",
       "      <th>50%</th>\n",
       "      <td>87.910700</td>\n",
       "      <td>21.943000</td>\n",
       "      <td>0.000000</td>\n",
       "      <td>0.000000</td>\n",
       "    </tr>\n",
       "    <tr>\n",
       "      <th>75%</th>\n",
       "      <td>131.863677</td>\n",
       "      <td>104.483750</td>\n",
       "      <td>0.000000</td>\n",
       "      <td>85.561250</td>\n",
       "    </tr>\n",
       "    <tr>\n",
       "      <th>max</th>\n",
       "      <td>175.106610</td>\n",
       "      <td>616.812000</td>\n",
       "      <td>404.496000</td>\n",
       "      <td>616.812000</td>\n",
       "    </tr>\n",
       "  </tbody>\n",
       "</table>\n",
       "</div>"
      ],
      "text/plain": [
       "           Time_s  full_timbre_Hz  nicki_timbre_Hz  ariana_timbre_Hz\n",
       "count  576.000000      576.000000       576.000000        576.000000\n",
       "mean    86.924811       26.518354        -4.564705         29.963021\n",
       "std     50.930510      127.575400        60.456598        108.672746\n",
       "min      0.000000     -419.985000      -419.985000       -298.485000\n",
       "25%     42.099537      -56.293750         0.000000         -6.193750\n",
       "50%     87.910700       21.943000         0.000000          0.000000\n",
       "75%    131.863677      104.483750         0.000000         85.561250\n",
       "max    175.106610      616.812000       404.496000        616.812000"
      ]
     },
     "execution_count": 8,
     "metadata": {},
     "output_type": "execute_result"
    }
   ],
   "source": [
    "compare_timbre.describe()"
   ]
  },
  {
   "cell_type": "markdown",
   "metadata": {},
   "source": [
    "### Step 8: The maximum and mininum values stood out to me - because Timbre values fluctuate a lot I wanted to find the \"outliers\" \n",
    "#### Following this I plotted a graph with this data"
   ]
  },
  {
   "cell_type": "markdown",
   "metadata": {},
   "source": [
    "<img src=\"graphproject.png\">"
   ]
  },
  {
   "cell_type": "markdown",
   "metadata": {},
   "source": [
    "### Step 9: I calculated the biggest difference in timbre"
   ]
  },
  {
   "cell_type": "code",
   "execution_count": 9,
   "metadata": {},
   "outputs": [
    {
     "data": {
      "text/plain": [
       "197"
      ]
     },
     "execution_count": 9,
     "metadata": {},
     "output_type": "execute_result"
    }
   ],
   "source": [
    "(compare_timbre['full_timbre_Hz'] - compare_timbre['nicki_timbre_Hz']).idxmax()"
   ]
  },
  {
   "cell_type": "markdown",
   "metadata": {},
   "source": [
    "### Step 10: Then I found the time stamps greater than or equal to 197 Hz"
   ]
  },
  {
   "cell_type": "code",
   "execution_count": 13,
   "metadata": {
    "scrolled": true
   },
   "outputs": [
    {
     "data": {
      "text/html": [
       "<div>\n",
       "<style scoped>\n",
       "    .dataframe tbody tr th:only-of-type {\n",
       "        vertical-align: middle;\n",
       "    }\n",
       "\n",
       "    .dataframe tbody tr th {\n",
       "        vertical-align: top;\n",
       "    }\n",
       "\n",
       "    .dataframe thead th {\n",
       "        text-align: right;\n",
       "    }\n",
       "</style>\n",
       "<table border=\"1\" class=\"dataframe\">\n",
       "  <thead>\n",
       "    <tr style=\"text-align: right;\">\n",
       "      <th></th>\n",
       "      <th>Time_s</th>\n",
       "      <th>full_timbre_Hz</th>\n",
       "      <th>nicki_timbre_Hz</th>\n",
       "      <th>ariana_timbre_Hz</th>\n",
       "    </tr>\n",
       "  </thead>\n",
       "  <tbody>\n",
       "    <tr>\n",
       "      <th>424</th>\n",
       "      <td>129.02150</td>\n",
       "      <td>273.564</td>\n",
       "      <td>273.564</td>\n",
       "      <td>0.0</td>\n",
       "    </tr>\n",
       "    <tr>\n",
       "      <th>425</th>\n",
       "      <td>129.15977</td>\n",
       "      <td>261.227</td>\n",
       "      <td>261.227</td>\n",
       "      <td>0.0</td>\n",
       "    </tr>\n",
       "    <tr>\n",
       "      <th>426</th>\n",
       "      <td>129.29501</td>\n",
       "      <td>289.083</td>\n",
       "      <td>289.083</td>\n",
       "      <td>0.0</td>\n",
       "    </tr>\n",
       "    <tr>\n",
       "      <th>427</th>\n",
       "      <td>129.82295</td>\n",
       "      <td>328.471</td>\n",
       "      <td>328.471</td>\n",
       "      <td>0.0</td>\n",
       "    </tr>\n",
       "    <tr>\n",
       "      <th>453</th>\n",
       "      <td>138.38992</td>\n",
       "      <td>404.496</td>\n",
       "      <td>404.496</td>\n",
       "      <td>0.0</td>\n",
       "    </tr>\n",
       "    <tr>\n",
       "      <th>456</th>\n",
       "      <td>139.32450</td>\n",
       "      <td>273.438</td>\n",
       "      <td>273.438</td>\n",
       "      <td>0.0</td>\n",
       "    </tr>\n",
       "    <tr>\n",
       "      <th>485</th>\n",
       "      <td>146.96558</td>\n",
       "      <td>267.222</td>\n",
       "      <td>267.222</td>\n",
       "      <td>0.0</td>\n",
       "    </tr>\n",
       "  </tbody>\n",
       "</table>\n",
       "</div>"
      ],
      "text/plain": [
       "        Time_s  full_timbre_Hz  nicki_timbre_Hz  ariana_timbre_Hz\n",
       "424  129.02150         273.564          273.564               0.0\n",
       "425  129.15977         261.227          261.227               0.0\n",
       "426  129.29501         289.083          289.083               0.0\n",
       "427  129.82295         328.471          328.471               0.0\n",
       "453  138.38992         404.496          404.496               0.0\n",
       "456  139.32450         273.438          273.438               0.0\n",
       "485  146.96558         267.222          267.222               0.0"
      ]
     },
     "execution_count": 13,
     "metadata": {},
     "output_type": "execute_result"
    }
   ],
   "source": [
    "compare_timbre[compare_timbre['nicki_timbre_Hz'] >= 197]"
   ]
  },
  {
   "cell_type": "code",
   "execution_count": 10,
   "metadata": {},
   "outputs": [
    {
     "data": {
      "text/plain": [
       "129.0215"
      ]
     },
     "execution_count": 10,
     "metadata": {},
     "output_type": "execute_result"
    }
   ],
   "source": [
    "compare_timbre.iloc[424,0]"
   ]
  },
  {
   "cell_type": "markdown",
   "metadata": {},
   "source": [
    "#### This timestamp was about 0.6 seconds from the start of nicki's verse that I had calculated prior"
   ]
  },
  {
   "cell_type": "code",
   "execution_count": 24,
   "metadata": {
    "scrolled": true
   },
   "outputs": [
    {
     "name": "stdout",
     "output_type": "stream",
     "text": [
      "129.0215\n",
      "0.6214999999999975\n"
     ]
    }
   ],
   "source": [
    "timestamp_cal = compare_timbre.iloc[424,0]\n",
    "print(timestamp_cal)\n",
    "\n",
    "difference = timestamp_cal - start_time\n",
    "\n",
    "print(difference)"
   ]
  },
  {
   "cell_type": "markdown",
   "metadata": {},
   "source": [
    "### Step 11: Then I had a look at the minimum and maximum values"
   ]
  },
  {
   "cell_type": "code",
   "execution_count": 15,
   "metadata": {},
   "outputs": [
    {
     "data": {
      "text/html": [
       "<div>\n",
       "<style scoped>\n",
       "    .dataframe tbody tr th:only-of-type {\n",
       "        vertical-align: middle;\n",
       "    }\n",
       "\n",
       "    .dataframe tbody tr th {\n",
       "        vertical-align: top;\n",
       "    }\n",
       "\n",
       "    .dataframe thead th {\n",
       "        text-align: right;\n",
       "    }\n",
       "</style>\n",
       "<table border=\"1\" class=\"dataframe\">\n",
       "  <thead>\n",
       "    <tr style=\"text-align: right;\">\n",
       "      <th></th>\n",
       "      <th>Time_s</th>\n",
       "      <th>nicki_timbre_Hz</th>\n",
       "      <th>ariana_timbre_Hz</th>\n",
       "    </tr>\n",
       "    <tr>\n",
       "      <th>full_timbre_Hz</th>\n",
       "      <th></th>\n",
       "      <th></th>\n",
       "      <th></th>\n",
       "    </tr>\n",
       "  </thead>\n",
       "  <tbody>\n",
       "    <tr>\n",
       "      <th>-419.985</th>\n",
       "      <td>148.03810</td>\n",
       "      <td>-419.985</td>\n",
       "      <td>0.000</td>\n",
       "    </tr>\n",
       "    <tr>\n",
       "      <th>-309.655</th>\n",
       "      <td>148.57819</td>\n",
       "      <td>-309.655</td>\n",
       "      <td>0.000</td>\n",
       "    </tr>\n",
       "    <tr>\n",
       "      <th>-298.485</th>\n",
       "      <td>160.89362</td>\n",
       "      <td>0.000</td>\n",
       "      <td>-298.485</td>\n",
       "    </tr>\n",
       "    <tr>\n",
       "      <th>-283.843</th>\n",
       "      <td>25.71660</td>\n",
       "      <td>0.000</td>\n",
       "      <td>-283.843</td>\n",
       "    </tr>\n",
       "    <tr>\n",
       "      <th>-255.910</th>\n",
       "      <td>169.47125</td>\n",
       "      <td>0.000</td>\n",
       "      <td>-255.910</td>\n",
       "    </tr>\n",
       "    <tr>\n",
       "      <th>...</th>\n",
       "      <td>...</td>\n",
       "      <td>...</td>\n",
       "      <td>...</td>\n",
       "    </tr>\n",
       "    <tr>\n",
       "      <th>362.614</th>\n",
       "      <td>121.22585</td>\n",
       "      <td>0.000</td>\n",
       "      <td>362.614</td>\n",
       "    </tr>\n",
       "    <tr>\n",
       "      <th>404.496</th>\n",
       "      <td>138.38992</td>\n",
       "      <td>404.496</td>\n",
       "      <td>0.000</td>\n",
       "    </tr>\n",
       "    <tr>\n",
       "      <th>415.162</th>\n",
       "      <td>34.89392</td>\n",
       "      <td>0.000</td>\n",
       "      <td>415.162</td>\n",
       "    </tr>\n",
       "    <tr>\n",
       "      <th>428.355</th>\n",
       "      <td>121.44603</td>\n",
       "      <td>0.000</td>\n",
       "      <td>428.355</td>\n",
       "    </tr>\n",
       "    <tr>\n",
       "      <th>616.812</th>\n",
       "      <td>61.28295</td>\n",
       "      <td>0.000</td>\n",
       "      <td>616.812</td>\n",
       "    </tr>\n",
       "  </tbody>\n",
       "</table>\n",
       "<p>576 rows × 3 columns</p>\n",
       "</div>"
      ],
      "text/plain": [
       "                   Time_s  nicki_timbre_Hz  ariana_timbre_Hz\n",
       "full_timbre_Hz                                              \n",
       "-419.985        148.03810         -419.985             0.000\n",
       "-309.655        148.57819         -309.655             0.000\n",
       "-298.485        160.89362            0.000          -298.485\n",
       "-283.843         25.71660            0.000          -283.843\n",
       "-255.910        169.47125            0.000          -255.910\n",
       "...                   ...              ...               ...\n",
       " 362.614        121.22585            0.000           362.614\n",
       " 404.496        138.38992          404.496             0.000\n",
       " 415.162         34.89392            0.000           415.162\n",
       " 428.355        121.44603            0.000           428.355\n",
       " 616.812         61.28295            0.000           616.812\n",
       "\n",
       "[576 rows x 3 columns]"
      ]
     },
     "execution_count": 15,
     "metadata": {},
     "output_type": "execute_result"
    }
   ],
   "source": [
    "compare_timbre.groupby(['full_timbre_Hz']).min()"
   ]
  },
  {
   "cell_type": "markdown",
   "metadata": {},
   "source": [
    "### Step 12: On average Nicki had a lower timbre and the minimum timbre of the song was recorded during her verse"
   ]
  },
  {
   "cell_type": "code",
   "execution_count": 62,
   "metadata": {},
   "outputs": [
    {
     "data": {
      "text/html": [
       "<div>\n",
       "<style scoped>\n",
       "    .dataframe tbody tr th:only-of-type {\n",
       "        vertical-align: middle;\n",
       "    }\n",
       "\n",
       "    .dataframe tbody tr th {\n",
       "        vertical-align: top;\n",
       "    }\n",
       "\n",
       "    .dataframe thead th {\n",
       "        text-align: right;\n",
       "    }\n",
       "</style>\n",
       "<table border=\"1\" class=\"dataframe\">\n",
       "  <thead>\n",
       "    <tr style=\"text-align: right;\">\n",
       "      <th></th>\n",
       "      <th>Time_s</th>\n",
       "      <th>full_timbre_Hz</th>\n",
       "      <th>nicki_timbre_Hz</th>\n",
       "      <th>ariana_timbre_Hz</th>\n",
       "    </tr>\n",
       "  </thead>\n",
       "  <tbody>\n",
       "    <tr>\n",
       "      <th>490</th>\n",
       "      <td>148.0381</td>\n",
       "      <td>-419.985</td>\n",
       "      <td>-419.985</td>\n",
       "      <td>0.0</td>\n",
       "    </tr>\n",
       "  </tbody>\n",
       "</table>\n",
       "</div>"
      ],
      "text/plain": [
       "       Time_s  full_timbre_Hz  nicki_timbre_Hz  ariana_timbre_Hz\n",
       "490  148.0381        -419.985         -419.985               0.0"
      ]
     },
     "execution_count": 62,
     "metadata": {},
     "output_type": "execute_result"
    }
   ],
   "source": [
    "compare_timbre[compare_timbre['nicki_timbre_Hz'] == -419.985]"
   ]
  },
  {
   "cell_type": "code",
   "execution_count": 17,
   "metadata": {},
   "outputs": [
    {
     "data": {
      "text/plain": [
       "148.0381"
      ]
     },
     "execution_count": 17,
     "metadata": {},
     "output_type": "execute_result"
    }
   ],
   "source": [
    "compare_timbre.iloc[490,0]"
   ]
  },
  {
   "cell_type": "markdown",
   "metadata": {},
   "source": [
    "#### This was approximately 2.6 seconds shorter than the end time I calculated."
   ]
  },
  {
   "cell_type": "code",
   "execution_count": 33,
   "metadata": {
    "scrolled": true
   },
   "outputs": [
    {
     "name": "stdout",
     "output_type": "stream",
     "text": [
      "2.5619000000000085\n"
     ]
    }
   ],
   "source": [
    "end_time_cal = compare_timbre.iloc[490,0]\n",
    "end_verse = end_time - end_time_cal\n",
    "print(end_verse)"
   ]
  },
  {
   "cell_type": "markdown",
   "metadata": {},
   "source": [
    "### Step 13: The median time I calculated was 1 second off the time when the max timbre recorded during Nicki's verse"
   ]
  },
  {
   "cell_type": "code",
   "execution_count": 36,
   "metadata": {},
   "outputs": [
    {
     "name": "stdout",
     "output_type": "stream",
     "text": [
      "139.5\n"
     ]
    }
   ],
   "source": [
    "median = start_time + end_time\n",
    "median_time = median/2\n",
    "print(median_time)"
   ]
  },
  {
   "cell_type": "code",
   "execution_count": 38,
   "metadata": {},
   "outputs": [
    {
     "data": {
      "text/html": [
       "<div>\n",
       "<style scoped>\n",
       "    .dataframe tbody tr th:only-of-type {\n",
       "        vertical-align: middle;\n",
       "    }\n",
       "\n",
       "    .dataframe tbody tr th {\n",
       "        vertical-align: top;\n",
       "    }\n",
       "\n",
       "    .dataframe thead th {\n",
       "        text-align: right;\n",
       "    }\n",
       "</style>\n",
       "<table border=\"1\" class=\"dataframe\">\n",
       "  <thead>\n",
       "    <tr style=\"text-align: right;\">\n",
       "      <th></th>\n",
       "      <th>Time_s</th>\n",
       "      <th>full_timbre_Hz</th>\n",
       "      <th>nicki_timbre_Hz</th>\n",
       "      <th>ariana_timbre_Hz</th>\n",
       "    </tr>\n",
       "  </thead>\n",
       "  <tbody>\n",
       "    <tr>\n",
       "      <th>453</th>\n",
       "      <td>138.38992</td>\n",
       "      <td>404.496</td>\n",
       "      <td>404.496</td>\n",
       "      <td>0.0</td>\n",
       "    </tr>\n",
       "  </tbody>\n",
       "</table>\n",
       "</div>"
      ],
      "text/plain": [
       "        Time_s  full_timbre_Hz  nicki_timbre_Hz  ariana_timbre_Hz\n",
       "453  138.38992         404.496          404.496               0.0"
      ]
     },
     "execution_count": 38,
     "metadata": {},
     "output_type": "execute_result"
    }
   ],
   "source": [
    "compare_timbre[compare_timbre['Time_s'] == 138.38992]"
   ]
  },
  {
   "cell_type": "code",
   "execution_count": 37,
   "metadata": {},
   "outputs": [
    {
     "data": {
      "text/plain": [
       "138.38992"
      ]
     },
     "execution_count": 37,
     "metadata": {},
     "output_type": "execute_result"
    }
   ],
   "source": [
    "compare_timbre.iloc[453,0]"
   ]
  },
  {
   "cell_type": "code",
   "execution_count": 39,
   "metadata": {},
   "outputs": [
    {
     "name": "stdout",
     "output_type": "stream",
     "text": [
      "1.1100800000000106\n"
     ]
    }
   ],
   "source": [
    "print(median_time - compare_timbre.iloc[453,0])"
   ]
  },
  {
   "cell_type": "markdown",
   "metadata": {},
   "source": [
    "### In conclusion:\n",
    "\n",
    "#### 1. the minimum timbre for the whole song was -419.985 Hz at 148.03810s where Nicki Minajs verse starts\n",
    "\n",
    "#### 2. maximum timbre during Nicki's verse was 404.496 Hz - recorded at 138.38992s, in the middle of the verse.\n",
    "\n",
    "#### 3. Biggest difference in timbre was 197Hz, at 129.02150s - 1 second off the time I calculated\n",
    "\n",
    "#### I wanted to use this data to create a code for a user but I found it quite difficult since the timbre was in a nested list, and the numbers within the list fluctuated."
   ]
  },
  {
   "cell_type": "markdown",
   "metadata": {},
   "source": [
    "### Instead I created a user led spotify search code."
   ]
  },
  {
   "cell_type": "code",
   "execution_count": 8,
   "metadata": {},
   "outputs": [
    {
     "name": "stdout",
     "output_type": "stream",
     "text": [
      "What artist are you looking for? Nicki Minaj\n",
      "How many tracks? 10\n",
      "0 Tusa\n",
      "1 What That Speed Bout!?\n",
      "2 Whole Lotta Choppas (Remix) [feat. Nicki Minaj]\n",
      "3 Super Bass\n",
      "4 Yikes\n",
      "5 Bottoms Up (feat. Nicki Minaj)\n",
      "6 FEFE\n",
      "7 Starships\n",
      "8 Side To Side\n",
      "9 MotorSport\n"
     ]
    }
   ],
   "source": [
    "user_artist = input('What artist are you looking for? ')\n",
    "\n",
    "user_track_no = int(input('How many tracks? '))\n",
    "\n",
    "results = sp.search(q='{}'.format(user_artist), limit='{}'.format(user_track_no))\n",
    "for idx, track in enumerate(results['tracks']['items']):\n",
    "\n",
    "    print(idx, track['name'])\n"
   ]
  },
  {
   "cell_type": "markdown",
   "metadata": {},
   "source": [
    "# My spotify developer dashboard"
   ]
  },
  {
   "cell_type": "markdown",
   "metadata": {},
   "source": [
    "<img src=\"spotifydeveloper.png\">"
   ]
  },
  {
   "cell_type": "markdown",
   "metadata": {},
   "source": [
    "### The end!"
   ]
  }
 ],
 "metadata": {
  "kernelspec": {
   "display_name": "Python 3",
   "language": "python",
   "name": "python3"
  },
  "language_info": {
   "codemirror_mode": {
    "name": "ipython",
    "version": 3
   },
   "file_extension": ".py",
   "mimetype": "text/x-python",
   "name": "python",
   "nbconvert_exporter": "python",
   "pygments_lexer": "ipython3",
   "version": "3.8.6"
  }
 },
 "nbformat": 4,
 "nbformat_minor": 4
}
